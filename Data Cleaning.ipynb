{
 "cells": [
  {
   "cell_type": "code",
   "execution_count": 92,
   "metadata": {
    "collapsed": false
   },
   "outputs": [],
   "source": [
    "import os\n",
    "\n",
    "import pandas as pd\n",
    "\n",
    "raw_data_dir = r\"C:\\Users\\Andrew\\Documents\\UofT2016\\Bike App Data\\Bike Data Original\"\n",
    "cut_data_dir = r\"C:\\Users\\Andrew\\Documents\\UofT2016\\Speed Analysis\\toronto-cycling-speed-analysis\\Data\\Cut Data\""
   ]
  },
  {
   "cell_type": "code",
   "execution_count": 93,
   "metadata": {
    "collapsed": false
   },
   "outputs": [],
   "source": [
    "raw_data = [os.path.join(raw_data_dir, f) for f in os.listdir(raw_data_dir) if \"coords\" in f]\n",
    "trip_surveys = pd.read_csv(os.path.join(raw_data_dir, \"CyclingApp_Trip_Surveys.csv\"))\n",
    "user_surveys = pd.read_csv(os.path.join(raw_data_dir, \"CyclingApp_User_Surveys.csv\"), \n",
    "                           encoding = \"ISO-8859-1\")\n",
    "compiled_data = pd.merge(trip_surveys, user_surveys, how=\"inner\", on=\"app_user_id\")"
   ]
  },
  {
   "cell_type": "code",
   "execution_count": 94,
   "metadata": {
    "collapsed": false,
    "scrolled": true
   },
   "outputs": [],
   "source": [
    "for day in raw_data:\n",
    "    data = pd.read_csv(day, encoding = \"ISO-8859-1\")\n",
    "    trip_data = pd.merge(data, compiled_data, how=\"inner\", on=\"trip_id\")\n",
    "    trip_data.loc[trip_data[\"speed\"] < 0, \"speed\"] = 0\n",
    "    \n",
    "    for trip_id in trip_data[\"trip_id\"].unique():\n",
    "        trip = trip_data[trip_data[\"trip_id\"] == trip_id]\n",
    "        trip = trip.sort_values(\"recorded_at\")\n",
    "        trip_avg_speed = trip[\"speed\"].mean()\n",
    "        \n",
    "        start_cut = 0\n",
    "        end_cut = 0\n",
    "        finished_start_cut = False\n",
    "        for i, speed in enumerate((speed for i, speed in trip[\"speed\"].iteritems())):\n",
    "            if speed > trip_avg_speed / 5.0 and not finished_start_cut:\n",
    "                finished_start_cut = True\n",
    "                start_cut = i\n",
    "            if speed > trip_avg_speed:\n",
    "                end_cut = i + 1\n",
    "        cut_trip = trip.iloc[start_cut : end_cut]\n",
    "        \n",
    "        if cut_trip[\"speed\"].mean() < 0.5 or len(cut_trip.index) < 10: # This is 1.8 km/h, a very slow walking speed\n",
    "            continue\n",
    "        cut_trip.to_csv(os.path.join(cut_data_dir, \"%d.csv\" % trip_id), \n",
    "                        index_label=\"ObjectID\")\n",
    "        try:\n",
    "            od_trip = cut_trip.iloc[[0, len(cut_trip) - 1]]\n",
    "        except:\n",
    "            print(trip_id)\n",
    "            raise\n",
    "        od_trip.to_csv(os.path.join(cut_data_dir, \"%d_od.csv\" % trip_id),\n",
    "                      index=False)"
   ]
  },
  {
   "cell_type": "code",
   "execution_count": null,
   "metadata": {
    "collapsed": false
   },
   "outputs": [],
   "source": []
  },
  {
   "cell_type": "code",
   "execution_count": null,
   "metadata": {
    "collapsed": true
   },
   "outputs": [],
   "source": []
  }
 ],
 "metadata": {
  "kernelspec": {
   "display_name": "Python 3",
   "language": "python",
   "name": "python3"
  },
  "language_info": {
   "codemirror_mode": {
    "name": "ipython",
    "version": 3
   },
   "file_extension": ".py",
   "mimetype": "text/x-python",
   "name": "python",
   "nbconvert_exporter": "python",
   "pygments_lexer": "ipython3",
   "version": "3.5.2"
  }
 },
 "nbformat": 4,
 "nbformat_minor": 0
}
